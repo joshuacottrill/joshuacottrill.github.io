{
  "nbformat": 4,
  "nbformat_minor": 0,
  "metadata": {
    "colab": {
      "provenance": [],
      "authorship_tag": "ABX9TyOB5/UPBncpm3q4WeiGACG1",
      "include_colab_link": true
    },
    "kernelspec": {
      "name": "python3",
      "display_name": "Python 3"
    },
    "language_info": {
      "name": "python"
    }
  },
  "cells": [
    {
      "cell_type": "markdown",
      "metadata": {
        "id": "view-in-github",
        "colab_type": "text"
      },
      "source": [
        "<a href=\"https://colab.research.google.com/github/joshuacottrill/joshuacottrill.github.io/blob/main/MLB_Moneyline_API.ipynb\" target=\"_parent\"><img src=\"https://colab.research.google.com/assets/colab-badge.svg\" alt=\"Open In Colab\"/></a>"
      ]
    },
    {
      "cell_type": "code",
      "source": [
        "import pandas as pd\n",
        "\n",
        "df = pd.read_csv('/content/mlb-2025-orig.csv')\n",
        "print(df.head())"
      ],
      "metadata": {
        "colab": {
          "base_uri": "https://localhost:8080/"
        },
        "id": "g1mRHPjZ3tKG",
        "outputId": "a1811bda-2be5-49d5-a52b-33d3ba3ec38d"
      },
      "execution_count": 51,
      "outputs": [
        {
          "output_type": "stream",
          "name": "stdout",
          "text": [
            "      Date Start Time (Sask) Start Time (EDT)               Visitor  \\\n",
            "0  4/15/25           4:40 PM          6:40 PM  Washington Nationals   \n",
            "1  4/15/25           4:40 PM          6:40 PM      Seattle Mariners   \n",
            "2  4/15/25           4:40 PM          6:40 PM  Arizona Diamondbacks   \n",
            "3  4/15/25           4:45 PM          6:45 PM  San Francisco Giants   \n",
            "4  4/15/25           5:05 PM          7:05 PM   Cleveland Guardians   \n",
            "\n",
            "                    Home  \n",
            "0     Pittsburgh Pirates  \n",
            "1        Cincinnati Reds  \n",
            "2          Miami Marlins  \n",
            "3  Philadelphia Phillies  \n",
            "4      Baltimore Orioles  \n"
          ]
        }
      ]
    },
    {
      "cell_type": "code",
      "source": [
        "import pandas as pd\n",
        "import requests\n",
        "from datetime import date\n",
        "\n",
        "team_stats = {\n",
        "    # AL East\n",
        "    \"Baltimore Orioles\": {\"win_percentage\": 0.574, \"runs_scored\": 742, \"runs_allowed\": 693},\n",
        "    \"Boston Red Sox\": {\"win_percentage\": 0.537, \"runs_scored\": 795, \"runs_allowed\": 797},\n",
        "    \"New York Yankees\": {\"win_percentage\": 0.610, \"runs_scored\": 807, \"runs_allowed\": 661},\n",
        "    \"Tampa Bay Rays\": {\"win_percentage\": 0.593, \"runs_scored\": 717, \"runs_allowed\": 656},\n",
        "    \"Toronto Blue Jays\": {\"win_percentage\": 0.556, \"runs_scored\": 775, \"runs_allowed\": 709},\n",
        "\n",
        "    # AL Central\n",
        "    \"Chicago White Sox\": {\"win_percentage\": 0.454, \"runs_scored\": 688, \"runs_allowed\": 793},\n",
        "    \"Cleveland Guardians\": {\"win_percentage\": 0.543, \"runs_scored\": 698, \"runs_allowed\": 669},\n",
        "    \"Detroit Tigers\": {\"win_percentage\": 0.475, \"runs_scored\": 670, \"runs_allowed\": 774},\n",
        "    \"Kansas City Royals\": {\"win_percentage\": 0.432, \"runs_scored\": 648, \"runs_allowed\": 809},\n",
        "    \"Minnesota Twins\": {\"win_percentage\": 0.562, \"runs_scored\": 756, \"runs_allowed\": 744},\n",
        "\n",
        "    # AL West\n",
        "    \"Houston Astros\": {\"win_percentage\": 0.630, \"runs_scored\": 752, \"runs_allowed\": 617},\n",
        "    \"Los Angeles Angels\": {\"win_percentage\": 0.494, \"runs_scored\": 761, \"runs_allowed\": 777},\n",
        "    \"Oakland Athletics\": {\"win_percentage\": 0.407, \"runs_scored\": 604, \"runs_allowed\": 824},\n",
        "    \"Seattle Mariners\": {\"win_percentage\": 0.512, \"runs_scored\": 707, \"runs_allowed\": 690},\n",
        "    \"Texas Rangers\": {\"win_percentage\": 0.654, \"runs_scored\": 845, \"runs_allowed\": 602},\n",
        "\n",
        "    # NL East\n",
        "    \"Atlanta Braves\": {\"win_percentage\": 0.644, \"runs_scored\": 819, \"runs_allowed\": 614},\n",
        "    \"Miami Marlins\": {\"win_percentage\": 0.463, \"runs_scored\": 640, \"runs_allowed\": 741},\n",
        "    \"New York Mets\": {\"win_percentage\": 0.525, \"runs_scored\": 742, \"runs_allowed\": 729},\n",
        "    \"Philadelphia Phillies\": {\"win_percentage\": 0.600, \"runs_scored\": 785, \"runs_allowed\": 698},\n",
        "    \"Washington Nationals\": {\"win_percentage\": 0.580, \"runs_scored\": 712, \"runs_allowed\": 697},\n",
        "\n",
        "    # NL Central\n",
        "    \"Chicago Cubs\": {\"win_percentage\": 0.500, \"runs_scored\": 723, \"runs_allowed\": 724},\n",
        "    \"Cincinnati Reds\": {\"win_percentage\": 0.481, \"runs_scored\": 705, \"runs_allowed\": 766},\n",
        "    \"Milwaukee Brewers\": {\"win_percentage\": 0.556, \"runs_scored\": 734, \"runs_allowed\": 685},\n",
        "    \"Pittsburgh Pirates\": {\"win_percentage\": 0.444, \"runs_scored\": 617, \"runs_allowed\": 781},\n",
        "    \"St. Louis Cardinals\": {\"win_percentage\": 0.537, \"runs_scored\": 745, \"runs_allowed\": 723},\n",
        "\n",
        "    # NL West\n",
        "    \"Arizona Diamondbacks\": {\"win_percentage\": 0.481, \"runs_scored\": 731, \"runs_allowed\": 767},\n",
        "    \"Colorado Rockies\": {\"win_percentage\": 0.421, \"runs_scored\": 742, \"runs_allowed\": 889},\n",
        "    \"Los Angeles Dodgers\": {\"win_percentage\": 0.667, \"runs_scored\": 847, \"runs_allowed\": 605},\n",
        "    \"San Diego Padres\": {\"win_percentage\": 0.574, \"runs_scored\": 771, \"runs_allowed\": 693},\n",
        "    \"San Francisco Giants\": {\"win_percentage\": 0.543, \"runs_scored\": 715, \"runs_allowed\": 674},\n",
        "}\n",
        "\n",
        "# --- Prediction Logic ---\n",
        "def predict_favorite(visitor, home):\n",
        "    visitor_stats = team_stats.get(visitor, {})\n",
        "    home_stats = team_stats.get(home, {})\n",
        "\n",
        "    if not visitor_stats or not home_stats:\n",
        "        return home  # Fallback to home team if data missing\n",
        "\n",
        "    if visitor_stats[\"win_percentage\"] > home_stats[\"win_percentage\"]:\n",
        "        return visitor\n",
        "    else:\n",
        "        return home\n",
        "\n",
        "# --- April 15 Games ---\n",
        "april_15_games = [\n",
        "    (\"Washington Nationals\", \"Pittsburgh Pirates\"),\n",
        "    (\"Seattle Mariners\", \"Cincinnati Reds\"),\n",
        "    (\"Arizona Diamondbacks\", \"Miami Marlins\"),\n",
        "    (\"San Francisco Giants\", \"Philadelphia Phillies\"),\n",
        "    (\"Cleveland Guardians\", \"Baltimore Orioles\"),\n",
        "    (\"Boston Red Sox\", \"Tampa Bay Rays\"),\n",
        "    (\"Kansas City Royals\", \"New York Yankees\"),\n",
        "    (\"Atlanta Braves\", \"Toronto Blue Jays\"),\n",
        "    (\"New York Mets\", \"Minnesota Twins\"),\n",
        "    (\"Athletics\", \"Chicago White Sox\"),\n",
        "    (\"Detroit Tigers\", \"Milwaukee Brewers\"),\n",
        "    (\"Houston Astros\", \"St. Louis Cardinals\"),\n",
        "    (\"Los Angeles Angels\", \"Texas Rangers\"),\n",
        "    (\"Chicago Cubs\", \"San Diego Padres\"),\n",
        "    (\"Colorado Rockies\", \"Los Angeles Dodgers\")\n",
        "]\n",
        "\n",
        "# --- Generate Predictions ---\n",
        "predictions = []\n",
        "for visitor, home in april_15_games:\n",
        "    favorite = predict_favorite(visitor, home)\n",
        "    predictions.append({\n",
        "        \"Visitor\": visitor,\n",
        "        \"Home\": home,\n",
        "        \"Favorite\": favorite,\n",
        "        \"Reason\": f\"{favorite} has higher win percentage ({team_stats[favorite]['win_percentage']})\"\n",
        "    })\n",
        "\n",
        "# --- Display Results ---\n",
        "pd.set_option('display.max_colwidth', None)\n",
        "results_df = pd.DataFrame(predictions)\n",
        "print(results_df.to_markdown(index=False))"
      ],
      "metadata": {
        "colab": {
          "base_uri": "https://localhost:8080/"
        },
        "id": "bWLcthTYqFKi",
        "outputId": "d9eaa3e4-700b-484c-ee33-89e7b733c9e8"
      },
      "execution_count": 60,
      "outputs": [
        {
          "output_type": "stream",
          "name": "stdout",
          "text": [
            "| Visitor              | Home                  | Favorite              | Reason                                                 |\n",
            "|:---------------------|:----------------------|:----------------------|:-------------------------------------------------------|\n",
            "| Washington Nationals | Pittsburgh Pirates    | Washington Nationals  | Washington Nationals has higher win percentage (0.58)  |\n",
            "| Seattle Mariners     | Cincinnati Reds       | Seattle Mariners      | Seattle Mariners has higher win percentage (0.512)     |\n",
            "| Arizona Diamondbacks | Miami Marlins         | Arizona Diamondbacks  | Arizona Diamondbacks has higher win percentage (0.481) |\n",
            "| San Francisco Giants | Philadelphia Phillies | Philadelphia Phillies | Philadelphia Phillies has higher win percentage (0.6)  |\n",
            "| Cleveland Guardians  | Baltimore Orioles     | Baltimore Orioles     | Baltimore Orioles has higher win percentage (0.574)    |\n",
            "| Boston Red Sox       | Tampa Bay Rays        | Tampa Bay Rays        | Tampa Bay Rays has higher win percentage (0.593)       |\n",
            "| Kansas City Royals   | New York Yankees      | New York Yankees      | New York Yankees has higher win percentage (0.61)      |\n",
            "| Atlanta Braves       | Toronto Blue Jays     | Atlanta Braves        | Atlanta Braves has higher win percentage (0.644)       |\n",
            "| New York Mets        | Minnesota Twins       | Minnesota Twins       | Minnesota Twins has higher win percentage (0.562)      |\n",
            "| Athletics            | Chicago White Sox     | Chicago White Sox     | Chicago White Sox has higher win percentage (0.454)    |\n",
            "| Detroit Tigers       | Milwaukee Brewers     | Milwaukee Brewers     | Milwaukee Brewers has higher win percentage (0.556)    |\n",
            "| Houston Astros       | St. Louis Cardinals   | Houston Astros        | Houston Astros has higher win percentage (0.63)        |\n",
            "| Los Angeles Angels   | Texas Rangers         | Texas Rangers         | Texas Rangers has higher win percentage (0.654)        |\n",
            "| Chicago Cubs         | San Diego Padres      | San Diego Padres      | San Diego Padres has higher win percentage (0.574)     |\n",
            "| Colorado Rockies     | Los Angeles Dodgers   | Los Angeles Dodgers   | Los Angeles Dodgers has higher win percentage (0.667)  |\n"
          ]
        }
      ]
    },
    {
      "cell_type": "code",
      "source": [
        "def daily_update(target_date=None):\n",
        "    # Set target date\n",
        "    target_date = target_date or date.today()\n",
        "\n",
        "    # Load schedule data with explicit date format\n",
        "    schedule_df = pd.read_csv('mlb-2025-orig.csv')\n",
        "    schedule_df['Date'] = pd.to_datetime(schedule_df['Date'], format='%m/%d/%y')  # Explicit format\n",
        "\n",
        "    # Filter games for target date\n",
        "    days_games = schedule_df[schedule_df['Date'].dt.date == target_date]\n",
        "\n",
        "    if days_games.empty:\n",
        "        print(f\"No games found for {target_date.strftime('%Y-%m-%d')}\")\n",
        "        return\n",
        "\n",
        "    # Process predictions\n",
        "    predictions = []\n",
        "    for _, row in days_games.iterrows():\n",
        "        prediction = predict_game(row['Visitor'], row['Home'])\n",
        "        predictions.append(prediction)\n",
        "\n",
        "    # Create and format output\n",
        "    results_df = pd.DataFrame(predictions)\n",
        "    results_df['date'] = target_date.strftime('%Y-%m-%d')\n",
        "\n",
        "    print(f\"\\nPredictions for {target_date.strftime('%Y-%m-%d')}:\")\n",
        "    print(results_df[['date', 'visitor', 'home', 'favorite']].to_markdown(index=False))\n",
        "\n",
        "\n",
        "# Get predictions for any date (\"YYYY-MM-DD\")\n",
        "daily_update(date(2025, 4, 15))"
      ],
      "metadata": {
        "colab": {
          "base_uri": "https://localhost:8080/"
        },
        "id": "QEA06l0lwFaW",
        "outputId": "9c72aa7d-5a7e-44f4-c708-9a887d3bc561"
      },
      "execution_count": 63,
      "outputs": [
        {
          "output_type": "stream",
          "name": "stdout",
          "text": [
            "\n",
            "Predictions for 2025-04-15:\n",
            "| date       | visitor              | home                  | favorite              |\n",
            "|:-----------|:---------------------|:----------------------|:----------------------|\n",
            "| 2025-04-15 | Washington Nationals | Pittsburgh Pirates    | Washington Nationals  |\n",
            "| 2025-04-15 | Seattle Mariners     | Cincinnati Reds       | Seattle Mariners      |\n",
            "| 2025-04-15 | Arizona Diamondbacks | Miami Marlins         | Arizona Diamondbacks  |\n",
            "| 2025-04-15 | San Francisco Giants | Philadelphia Phillies | Philadelphia Phillies |\n",
            "| 2025-04-15 | Cleveland Guardians  | Baltimore Orioles     | Baltimore Orioles     |\n",
            "| 2025-04-15 | Boston Red Sox       | Tampa Bay Rays        | Tampa Bay Rays        |\n",
            "| 2025-04-15 | Kansas City Royals   | New York Yankees      | New York Yankees      |\n",
            "| 2025-04-15 | Atlanta Braves       | Toronto Blue Jays     | Atlanta Braves        |\n",
            "| 2025-04-15 | New York Mets        | Minnesota Twins       | Minnesota Twins       |\n",
            "| 2025-04-15 | Athletics            | Chicago White Sox     | Chicago White Sox     |\n",
            "| 2025-04-15 | Detroit Tigers       | Milwaukee Brewers     | Milwaukee Brewers     |\n",
            "| 2025-04-15 | Houston Astros       | St. Louis Cardinals   | Houston Astros        |\n",
            "| 2025-04-15 | Los Angeles Angels   | Texas Rangers         | Texas Rangers         |\n",
            "| 2025-04-15 | Chicago Cubs         | San Diego Padres      | San Diego Padres      |\n",
            "| 2025-04-15 | Colorado Rockies     | Los Angeles Dodgers   | Los Angeles Dodgers   |\n"
          ]
        }
      ]
    },
    {
      "cell_type": "code",
      "source": [],
      "metadata": {
        "id": "4STv6IDcwMV5"
      },
      "execution_count": 47,
      "outputs": []
    }
  ]
}