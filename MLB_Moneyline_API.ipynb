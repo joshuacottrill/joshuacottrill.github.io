{
  "nbformat": 4,
  "nbformat_minor": 0,
  "metadata": {
    "colab": {
      "provenance": [],
      "authorship_tag": "ABX9TyMtEA2dDzK/tkDP6TagJ4+u",
      "include_colab_link": true
    },
    "kernelspec": {
      "name": "python3",
      "display_name": "Python 3"
    },
    "language_info": {
      "name": "python"
    }
  },
  "cells": [
    {
      "cell_type": "markdown",
      "metadata": {
        "id": "view-in-github",
        "colab_type": "text"
      },
      "source": [
        "<a href=\"https://colab.research.google.com/github/joshuacottrill/joshuacottrill.github.io/blob/main/MLB_Moneyline_API.ipynb\" target=\"_parent\"><img src=\"https://colab.research.google.com/assets/colab-badge.svg\" alt=\"Open In Colab\"/></a>"
      ]
    },
    {
      "cell_type": "code",
      "source": [
        "import pandas as pd\n",
        "\n",
        "df = pd.read_csv('/content/mlb-2025-orig.csv')\n",
        "print(df.head())"
      ],
      "metadata": {
        "colab": {
          "base_uri": "https://localhost:8080/"
        },
        "id": "g1mRHPjZ3tKG",
        "outputId": "a1811bda-2be5-49d5-a52b-33d3ba3ec38d"
      },
      "execution_count": 51,
      "outputs": [
        {
          "output_type": "stream",
          "name": "stdout",
          "text": [
            "      Date Start Time (Sask) Start Time (EDT)               Visitor  \\\n",
            "0  4/15/25           4:40 PM          6:40 PM  Washington Nationals   \n",
            "1  4/15/25           4:40 PM          6:40 PM      Seattle Mariners   \n",
            "2  4/15/25           4:40 PM          6:40 PM  Arizona Diamondbacks   \n",
            "3  4/15/25           4:45 PM          6:45 PM  San Francisco Giants   \n",
            "4  4/15/25           5:05 PM          7:05 PM   Cleveland Guardians   \n",
            "\n",
            "                    Home  \n",
            "0     Pittsburgh Pirates  \n",
            "1        Cincinnati Reds  \n",
            "2          Miami Marlins  \n",
            "3  Philadelphia Phillies  \n",
            "4      Baltimore Orioles  \n"
          ]
        }
      ]
    },
    {
      "cell_type": "code",
      "source": [
        "import pandas as pd\n",
        "import requests\n",
        "from datetime import date\n",
        "\n",
        "# --- Mock Data for All 30 Teams ---\n",
        "team_stats = {\n",
        "    # AL East\n",
        "    \"Baltimore Orioles\": {\"win_percentage\": 0.57, \"runs_scored\": 485, \"runs_allowed\": 435},\n",
        "    \"Boston Red Sox\": {\"win_percentage\": 0.53, \"runs_scored\": 470, \"runs_allowed\": 460},\n",
        "    \"New York Yankees\": {\"win_percentage\": 0.61, \"runs_scored\": 505, \"runs_allowed\": 405},\n",
        "    \"Tampa Bay Rays\": {\"win_percentage\": 0.59, \"runs_scored\": 495, \"runs_allowed\": 415},\n",
        "    \"Toronto Blue Jays\": {\"win_percentage\": 0.55, \"runs_scored\": 480, \"runs_allowed\": 430},\n",
        "\n",
        "    # AL Central\n",
        "    \"Chicago White Sox\": {\"win_percentage\": 0.45, \"runs_scored\": 430, \"runs_allowed\": 510},\n",
        "    \"Cleveland Guardians\": {\"win_percentage\": 0.54, \"runs_scored\": 470, \"runs_allowed\": 445},\n",
        "    \"Detroit Tigers\": {\"win_percentage\": 0.47, \"runs_scored\": 440, \"runs_allowed\": 490},\n",
        "    \"Kansas City Royals\": {\"win_percentage\": 0.43, \"runs_scored\": 425, \"runs_allowed\": 525},\n",
        "    \"Minnesota Twins\": {\"win_percentage\": 0.56, \"runs_scored\": 475, \"runs_allowed\": 440},\n",
        "\n",
        "    # AL West\n",
        "    \"Houston Astros\": {\"win_percentage\": 0.63, \"runs_scored\": 515, \"runs_allowed\": 400},\n",
        "    \"Los Angeles Angels\": {\"win_percentage\": 0.49, \"runs_scored\": 455, \"runs_allowed\": 475},\n",
        "    \"Oakland Athletics\": {\"win_percentage\": 0.40, \"runs_scored\": 405, \"runs_allowed\": 560},\n",
        "    \"Seattle Mariners\": {\"win_percentage\": 0.51, \"runs_scored\": 460, \"runs_allowed\": 455},\n",
        "    \"Texas Rangers\": {\"win_percentage\": 0.65, \"runs_scored\": 525, \"runs_allowed\": 385},\n",
        "\n",
        "    # NL East\n",
        "    \"Atlanta Braves\": {\"win_percentage\": 0.64, \"runs_scored\": 520, \"runs_allowed\": 395},\n",
        "    \"Miami Marlins\": {\"win_percentage\": 0.46, \"runs_scored\": 435, \"runs_allowed\": 500},\n",
        "    \"New York Mets\": {\"win_percentage\": 0.52, \"runs_scored\": 465, \"runs_allowed\": 450},\n",
        "    \"Philadelphia Phillies\": {\"win_percentage\": 0.60, \"runs_scored\": 500, \"runs_allowed\": 410},\n",
        "    \"Washington Nationals\": {\"win_percentage\": 0.58, \"runs_scored\": 490, \"runs_allowed\": 420},\n",
        "\n",
        "    # NL Central\n",
        "    \"Chicago Cubs\": {\"win_percentage\": 0.50, \"runs_scored\": 455, \"runs_allowed\": 460},\n",
        "    \"Cincinnati Reds\": {\"win_percentage\": 0.48, \"runs_scored\": 445, \"runs_allowed\": 470},\n",
        "    \"Milwaukee Brewers\": {\"win_percentage\": 0.55, \"runs_scored\": 475, \"runs_allowed\": 435},\n",
        "    \"Pittsburgh Pirates\": {\"win_percentage\": 0.44, \"runs_scored\": 430, \"runs_allowed\": 510},\n",
        "    \"St. Louis Cardinals\": {\"win_percentage\": 0.53, \"runs_scored\": 465, \"runs_allowed\": 445},\n",
        "\n",
        "    # NL West\n",
        "    \"Arizona Diamondbacks\": {\"win_percentage\": 0.48, \"runs_scored\": 450, \"runs_allowed\": 470},\n",
        "    \"Colorado Rockies\": {\"win_percentage\": 0.42, \"runs_scored\": 425, \"runs_allowed\": 535},\n",
        "    \"Los Angeles Dodgers\": {\"win_percentage\": 0.66, \"runs_scored\": 535, \"runs_allowed\": 380},\n",
        "    \"San Diego Padres\": {\"win_percentage\": 0.57, \"runs_scored\": 485, \"runs_allowed\": 425},\n",
        "    \"San Francisco Giants\": {\"win_percentage\": 0.54, \"runs_scored\": 470, \"runs_allowed\": 440},\n",
        "}\n",
        "\n",
        "# --- Prediction Logic ---\n",
        "def predict_favorite(visitor, home):\n",
        "    visitor_stats = team_stats.get(visitor, {})\n",
        "    home_stats = team_stats.get(home, {})\n",
        "\n",
        "    if not visitor_stats or not home_stats:\n",
        "        return home  # Fallback to home team if data missing\n",
        "\n",
        "    if visitor_stats[\"win_percentage\"] > home_stats[\"win_percentage\"]:\n",
        "        return visitor\n",
        "    else:\n",
        "        return home\n",
        "\n",
        "# --- April 15 Games ---\n",
        "april_15_games = [\n",
        "    (\"Washington Nationals\", \"Pittsburgh Pirates\"),\n",
        "    (\"Seattle Mariners\", \"Cincinnati Reds\"),\n",
        "    (\"Arizona Diamondbacks\", \"Miami Marlins\"),\n",
        "    (\"San Francisco Giants\", \"Philadelphia Phillies\"),\n",
        "    (\"Cleveland Guardians\", \"Baltimore Orioles\"),\n",
        "    (\"Boston Red Sox\", \"Tampa Bay Rays\"),\n",
        "    (\"Kansas City Royals\", \"New York Yankees\"),\n",
        "    (\"Atlanta Braves\", \"Toronto Blue Jays\"),\n",
        "    (\"New York Mets\", \"Minnesota Twins\"),\n",
        "    (\"Athletics\", \"Chicago White Sox\"),\n",
        "    (\"Detroit Tigers\", \"Milwaukee Brewers\"),\n",
        "    (\"Houston Astros\", \"St. Louis Cardinals\"),\n",
        "    (\"Los Angeles Angels\", \"Texas Rangers\"),\n",
        "    (\"Chicago Cubs\", \"San Diego Padres\"),\n",
        "    (\"Colorado Rockies\", \"Los Angeles Dodgers\")\n",
        "]\n",
        "\n",
        "# --- Generate Predictions ---\n",
        "predictions = []\n",
        "for visitor, home in april_15_games:\n",
        "    favorite = predict_favorite(visitor, home)\n",
        "    predictions.append({\n",
        "        \"Visitor\": visitor,\n",
        "        \"Home\": home,\n",
        "        \"Favorite\": favorite,\n",
        "        \"Reason\": f\"{favorite} has higher win percentage ({team_stats[favorite]['win_percentage']})\"\n",
        "    })\n",
        "\n",
        "# --- Display Results ---\n",
        "pd.set_option('display.max_colwidth', None)\n",
        "results_df = pd.DataFrame(predictions)\n",
        "print(results_df.to_markdown(index=False))"
      ],
      "metadata": {
        "colab": {
          "base_uri": "https://localhost:8080/"
        },
        "id": "bWLcthTYqFKi",
        "outputId": "4675ee4d-e85d-4cb0-bcfd-20a5ba1d592b"
      },
      "execution_count": 54,
      "outputs": [
        {
          "output_type": "stream",
          "name": "stdout",
          "text": [
            "| Visitor              | Home                  | Favorite              | Reason                                                |\n",
            "|:---------------------|:----------------------|:----------------------|:------------------------------------------------------|\n",
            "| Washington Nationals | Pittsburgh Pirates    | Washington Nationals  | Washington Nationals has higher win percentage (0.58) |\n",
            "| Seattle Mariners     | Cincinnati Reds       | Seattle Mariners      | Seattle Mariners has higher win percentage (0.51)     |\n",
            "| Arizona Diamondbacks | Miami Marlins         | Arizona Diamondbacks  | Arizona Diamondbacks has higher win percentage (0.48) |\n",
            "| San Francisco Giants | Philadelphia Phillies | Philadelphia Phillies | Philadelphia Phillies has higher win percentage (0.6) |\n",
            "| Cleveland Guardians  | Baltimore Orioles     | Baltimore Orioles     | Baltimore Orioles has higher win percentage (0.57)    |\n",
            "| Boston Red Sox       | Tampa Bay Rays        | Tampa Bay Rays        | Tampa Bay Rays has higher win percentage (0.59)       |\n",
            "| Kansas City Royals   | New York Yankees      | New York Yankees      | New York Yankees has higher win percentage (0.61)     |\n",
            "| Atlanta Braves       | Toronto Blue Jays     | Atlanta Braves        | Atlanta Braves has higher win percentage (0.64)       |\n",
            "| New York Mets        | Minnesota Twins       | Minnesota Twins       | Minnesota Twins has higher win percentage (0.56)      |\n",
            "| Athletics            | Chicago White Sox     | Chicago White Sox     | Chicago White Sox has higher win percentage (0.45)    |\n",
            "| Detroit Tigers       | Milwaukee Brewers     | Milwaukee Brewers     | Milwaukee Brewers has higher win percentage (0.55)    |\n",
            "| Houston Astros       | St. Louis Cardinals   | Houston Astros        | Houston Astros has higher win percentage (0.63)       |\n",
            "| Los Angeles Angels   | Texas Rangers         | Texas Rangers         | Texas Rangers has higher win percentage (0.65)        |\n",
            "| Chicago Cubs         | San Diego Padres      | San Diego Padres      | San Diego Padres has higher win percentage (0.57)     |\n",
            "| Colorado Rockies     | Los Angeles Dodgers   | Los Angeles Dodgers   | Los Angeles Dodgers has higher win percentage (0.66)  |\n"
          ]
        }
      ]
    },
    {
      "cell_type": "code",
      "source": [
        "def daily_update(target_date=None):\n",
        "    # Set target date\n",
        "    target_date = target_date or date.today()\n",
        "\n",
        "    # Load schedule data with explicit date format\n",
        "    schedule_df = pd.read_csv('mlb-2025-orig.csv')\n",
        "    schedule_df['Date'] = pd.to_datetime(schedule_df['Date'], format='%m/%d/%y')  # Explicit format\n",
        "\n",
        "    # Filter games for target date\n",
        "    days_games = schedule_df[schedule_df['Date'].dt.date == target_date]\n",
        "\n",
        "    if days_games.empty:\n",
        "        print(f\"No games found for {target_date.strftime('%Y-%m-%d')}\")\n",
        "        return\n",
        "\n",
        "    # Process predictions\n",
        "    predictions = []\n",
        "    for _, row in days_games.iterrows():\n",
        "        prediction = predict_game(row['Visitor'], row['Home'])\n",
        "        predictions.append(prediction)\n",
        "\n",
        "    # Create and format output\n",
        "    results_df = pd.DataFrame(predictions)\n",
        "    results_df['date'] = target_date.strftime('%Y-%m-%d')\n",
        "\n",
        "    print(f\"\\nPredictions for {target_date.strftime('%Y-%m-%d')}:\")\n",
        "    print(results_df[['date', 'visitor', 'home', 'favorite']].to_markdown(index=False))\n",
        "\n",
        "\n",
        "# Get predictions for any date (\"YYYY-MM-DD\")\n",
        "daily_update(date(2025, 4, 17))"
      ],
      "metadata": {
        "colab": {
          "base_uri": "https://localhost:8080/"
        },
        "id": "QEA06l0lwFaW",
        "outputId": "23656cdb-edfc-4729-941b-12b644a4d977"
      },
      "execution_count": 59,
      "outputs": [
        {
          "output_type": "stream",
          "name": "stdout",
          "text": [
            "\n",
            "Predictions for 2025-04-17:\n",
            "| date       | visitor              | home                  | favorite              |\n",
            "|:-----------|:---------------------|:----------------------|:----------------------|\n",
            "| 2025-04-17 | Arizona Diamondbacks | Miami Marlins         | Arizona Diamondbacks  |\n",
            "| 2025-04-17 | Washington Nationals | Pittsburgh Pirates    | Washington Nationals  |\n",
            "| 2025-04-17 | Seattle Mariners     | Cincinnati Reds       | Seattle Mariners      |\n",
            "| 2025-04-17 | Athletics            | Chicago White Sox     | Chicago White Sox     |\n",
            "| 2025-04-17 | San Francisco Giants | Philadelphia Phillies | Philadelphia Phillies |\n",
            "| 2025-04-17 | Cleveland Guardians  | Baltimore Orioles     | Baltimore Orioles     |\n",
            "| 2025-04-17 | Kansas City Royals   | Detroit Tigers        | Detroit Tigers        |\n",
            "| 2025-04-17 | New York Yankees     | Tampa Bay Rays        | New York Yankees      |\n",
            "| 2025-04-17 | St. Louis Cardinals  | New York Mets         | St. Louis Cardinals   |\n",
            "| 2025-04-17 | Los Angeles Angels   | Texas Rangers         | Texas Rangers         |\n"
          ]
        }
      ]
    },
    {
      "cell_type": "code",
      "source": [],
      "metadata": {
        "id": "4STv6IDcwMV5"
      },
      "execution_count": 47,
      "outputs": []
    }
  ]
}